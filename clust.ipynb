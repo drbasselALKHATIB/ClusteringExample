{
  "cells": [
    {
      "cell_type": "markdown",
      "metadata": {
        "id": "view-in-github",
        "colab_type": "text"
      },
      "source": [
        "<a href=\"https://colab.research.google.com/github/drbasselALKHATIB/ClusteringExample/blob/master/clust.ipynb\" target=\"_parent\"><img src=\"https://colab.research.google.com/assets/colab-badge.svg\" alt=\"Open In Colab\"/></a>"
      ]
    },
    {
      "cell_type": "code",
      "source": [
        "# نسخ الملفات\n",
        "!git clone https://github.com/drbasselALKHATIB/ClusteringExample\n",
        "\n",
        "!cp /content/ClusteringExample/shopping-data.csv /content\n"
      ],
      "metadata": {
        "colab": {
          "base_uri": "https://localhost:8080/"
        },
        "id": "aypY-0W9_scw",
        "outputId": "05d12fc2-0b0c-4a39-e9d3-fe837532f39b"
      },
      "id": "aypY-0W9_scw",
      "execution_count": 7,
      "outputs": [
        {
          "output_type": "stream",
          "name": "stdout",
          "text": [
            "fatal: destination path 'ClusteringExample' already exists and is not an empty directory.\n"
          ]
        }
      ]
    },
    {
      "cell_type": "code",
      "execution_count": 8,
      "id": "f41a4ca7",
      "metadata": {
        "id": "f41a4ca7",
        "outputId": "1867d48d-3cd8-47af-f680-ff326ff5c073",
        "colab": {
          "base_uri": "https://localhost:8080/",
          "height": 265
        }
      },
      "outputs": [
        {
          "output_type": "display_data",
          "data": {
            "image/png": "[encoded data removed]",
            "text/plain": [
              "<Figure size 432x288 with 1 Axes>"
            ]
          },
          "metadata": {
            "needs_background": "light"
          }
        }
      ],
      "source": [
        "# المكتبة الرقمية\n",
        "import numpy as np\n",
        "# مكتبة الرسم\n",
        "import matplotlib.pyplot as plt\n",
        "\n",
        "# إنشاء البيانات\n",
        "X = np.array([[5,3],\n",
        "     [10,15],\n",
        "     [15,12],\n",
        "     [24,10],\n",
        "     [30,45],\n",
        "     [85,70],\n",
        "     [71,80],\n",
        "     [60,78],\n",
        "     [55,52],\n",
        "     [80,91],])\n",
        "# الرسم\n",
        "plt.scatter(X[:,0],X[:,1])\n",
        "plt.show()"
      ]
    },
    {
      "cell_type": "code",
      "execution_count": 9,
      "id": "841c67fd",
      "metadata": {
        "id": "841c67fd",
        "outputId": "072e2b4f-9b72-4563-cbf8-3fddd50383c9",
        "colab": {
          "base_uri": "https://localhost:8080/"
        }
      },
      "outputs": [
        {
          "output_type": "stream",
          "name": "stdout",
          "text": [
            "[[16.8 17. ]\n",
            " [70.2 74.2]]\n",
            "[0 0 0 0 0 1 1 1 1 1]\n"
          ]
        }
      ],
      "source": [
        "# KMeans\n",
        "from sklearn.cluster import KMeans\n",
        "# إنشاء غرض من الصف\n",
        "# تحديد عدد العناقيد المطلوب\n",
        "kmeans = KMeans(n_clusters=2)\n",
        "# الملائمة مع البيانات\n",
        "kmeans.fit(X)\n",
        "# طباعة المراكز\n",
        "print(kmeans.cluster_centers_)\n",
        "# طباعة تسميات العناقيد\n",
        "print(kmeans.labels_)"
      ]
    },
    {
      "cell_type": "code",
      "execution_count": 10,
      "id": "70eac068",
      "metadata": {
        "id": "70eac068",
        "outputId": "37ec8cff-cb85-43bb-adf3-b1e44ea6b88d",
        "colab": {
          "base_uri": "https://localhost:8080/"
        }
      },
      "outputs": [
        {
          "output_type": "stream",
          "name": "stdout",
          "text": [
            "[0]\n"
          ]
        }
      ],
      "source": [
        "# التنبؤ \n",
        "print(kmeans.predict([[10,10]]))"
      ]
    },
    {
      "cell_type": "code",
      "execution_count": 11,
      "id": "ccd03b9a",
      "metadata": {
        "id": "ccd03b9a",
        "outputId": "4cba5b78-12db-47e9-d8b9-af15243060f4",
        "colab": {
          "base_uri": "https://localhost:8080/",
          "height": 282
        }
      },
      "outputs": [
        {
          "output_type": "execute_result",
          "data": {
            "text/plain": [
              "<matplotlib.collections.PathCollection at 0x7f8150f1d490>"
            ]
          },
          "metadata": {},
          "execution_count": 11
        },
        {
          "output_type": "display_data",
          "data": {
            "image/png": "[encoded data removed]",
            "text/plain": [
              "<Figure size 432x288 with 1 Axes>"
            ]
          },
          "metadata": {
            "needs_background": "light"
          }
        }
      ],
      "source": [
        "# الرسم مع المراكز\n",
        "plt.scatter(X[:,0],X[:,1], c=kmeans.labels_, cmap='rainbow')\n",
        "plt.scatter(X[:,0], X[:,1], c=kmeans.labels_, cmap='rainbow')\n",
        "plt.scatter(kmeans.cluster_centers_[:,0] ,kmeans.cluster_centers_[:,1], color='black')"
      ]
    },
    {
      "cell_type": "code",
      "execution_count": 12,
      "id": "d694f11f",
      "metadata": {
        "id": "d694f11f",
        "outputId": "b134f756-4593-46d5-d974-af6b36285753",
        "colab": {
          "base_uri": "https://localhost:8080/",
          "height": 206
        }
      },
      "outputs": [
        {
          "output_type": "execute_result",
          "data": {
            "text/html": [
              "\n",
              "  <div id=\"df-62c51ec3-b804-4653-8fe0-217050264410\">\n",
              "    <div class=\"colab-df-container\">\n",
              "      <div>\n",
              "<style scoped>\n",
              "    .dataframe tbody tr th:only-of-type {\n",
              "        vertical-align: middle;\n",
              "    }\n",
              "\n",
              "    .dataframe tbody tr th {\n",
              "        vertical-align: top;\n",
              "    }\n",
              "\n",
              "    .dataframe thead th {\n",
              "        text-align: right;\n",
              "    }\n",
              "</style>\n",
              "<table border=\"1\" class=\"dataframe\">\n",
              "  <thead>\n",
              "    <tr style=\"text-align: right;\">\n",
              "      <th></th>\n",
              "      <th>CustomerID</th>\n",
              "      <th>Annual Income (k$)</th>\n",
              "      <th>Spending Score (1-100)</th>\n",
              "    </tr>\n",
              "  </thead>\n",
              "  <tbody>\n",
              "    <tr>\n",
              "      <th>0</th>\n",
              "      <td>1</td>\n",
              "      <td>15</td>\n",
              "      <td>39</td>\n",
              "    </tr>\n",
              "    <tr>\n",
              "      <th>1</th>\n",
              "      <td>2</td>\n",
              "      <td>15</td>\n",
              "      <td>81</td>\n",
              "    </tr>\n",
              "    <tr>\n",
              "      <th>2</th>\n",
              "      <td>3</td>\n",
              "      <td>16</td>\n",
              "      <td>6</td>\n",
              "    </tr>\n",
              "    <tr>\n",
              "      <th>3</th>\n",
              "      <td>4</td>\n",
              "      <td>16</td>\n",
              "      <td>77</td>\n",
              "    </tr>\n",
              "    <tr>\n",
              "      <th>4</th>\n",
              "      <td>5</td>\n",
              "      <td>17</td>\n",
              "      <td>40</td>\n",
              "    </tr>\n",
              "  </tbody>\n",
              "</table>\n",
              "</div>\n",
              "      <button class=\"colab-df-convert\" onclick=\"convertToInteractive('df-62c51ec3-b804-4653-8fe0-217050264410')\"\n",
              "              title=\"Convert this dataframe to an interactive table.\"\n",
              "              style=\"display:none;\">\n",
              "        \n",
              "  <svg xmlns=\"http://www.w3.org/2000/svg\" height=\"24px\"viewBox=\"0 0 24 24\"\n",
              "       width=\"24px\">\n",
              "    <path d=\"M0 0h24v24H0V0z\" fill=\"none\"/>\n",
              "    <path d=\"M18.56 5.44l.94 2.06.94-2.06 2.06-.94-2.06-.94-.94-2.06-.94 2.06-2.06.94zm-11 1L8.5 8.5l.94-2.06 2.06-.94-2.06-.94L8.5 2.5l-.94 2.06-2.06.94zm10 10l.94 2.06.94-2.06 2.06-.94-2.06-.94-.94-2.06-.94 2.06-2.06.94z\"/><path d=\"M17.41 7.96l-1.37-1.37c-.4-.4-.92-.59-1.43-.59-.52 0-1.04.2-1.43.59L10.3 9.45l-7.72 7.72c-.78.78-.78 2.05 0 2.83L4 21.41c.39.39.9.59 1.41.59.51 0 1.02-.2 1.41-.59l7.78-7.78 2.81-2.81c.8-.78.8-2.07 0-2.86zM5.41 20L4 18.59l7.72-7.72 1.47 1.35L5.41 20z\"/>\n",
              "  </svg>\n",
              "      </button>\n",
              "      \n",
              "  <style>\n",
              "    .colab-df-container {\n",
              "      display:flex;\n",
              "      flex-wrap:wrap;\n",
              "      gap: 12px;\n",
              "    }\n",
              "\n",
              "    .colab-df-convert {\n",
              "      background-color: #E8F0FE;\n",
              "      border: none;\n",
              "      border-radius: 50%;\n",
              "      cursor: pointer;\n",
              "      display: none;\n",
              "      fill: #1967D2;\n",
              "      height: 32px;\n",
              "      padding: 0 0 0 0;\n",
              "      width: 32px;\n",
              "    }\n",
              "\n",
              "    .colab-df-convert:hover {\n",
              "      background-color: #E2EBFA;\n",
              "      box-shadow: 0px 1px 2px rgba(60, 64, 67, 0.3), 0px 1px 3px 1px rgba(60, 64, 67, 0.15);\n",
              "      fill: #174EA6;\n",
              "    }\n",
              "\n",
              "    [theme=dark] .colab-df-convert {\n",
              "      background-color: #3B4455;\n",
              "      fill: #D2E3FC;\n",
              "    }\n",
              "\n",
              "    [theme=dark] .colab-df-convert:hover {\n",
              "      background-color: #434B5C;\n",
              "      box-shadow: 0px 1px 3px 1px rgba(0, 0, 0, 0.15);\n",
              "      filter: drop-shadow(0px 1px 2px rgba(0, 0, 0, 0.3));\n",
              "      fill: #FFFFFF;\n",
              "    }\n",
              "  </style>\n",
              "\n",
              "      <script>\n",
              "        const buttonEl =\n",
              "          document.querySelector('#df-62c51ec3-b804-4653-8fe0-217050264410 button.colab-df-convert');\n",
              "        buttonEl.style.display =\n",
              "          google.colab.kernel.accessAllowed ? 'block' : 'none';\n",
              "\n",
              "        async function convertToInteractive(key) {\n",
              "          const element = document.querySelector('#df-62c51ec3-b804-4653-8fe0-217050264410');\n",
              "          const dataTable =\n",
              "            await google.colab.kernel.invokeFunction('convertToInteractive',\n",
              "                                                     [key], {});\n",
              "          if (!dataTable) return;\n",
              "\n",
              "          const docLinkHtml = 'Like what you see? Visit the ' +\n",
              "            '<a target=\"_blank\" href=https://colab.research.google.com/notebooks/data_table.ipynb>data table notebook</a>'\n",
              "            + ' to learn more about interactive tables.';\n",
              "          element.innerHTML = '';\n",
              "          dataTable['output_type'] = 'display_data';\n",
              "          await google.colab.output.renderOutput(dataTable, element);\n",
              "          const docLink = document.createElement('div');\n",
              "          docLink.innerHTML = docLinkHtml;\n",
              "          element.appendChild(docLink);\n",
              "        }\n",
              "      </script>\n",
              "    </div>\n",
              "  </div>\n",
              "  "
            ],
            "text/plain": [
              "   CustomerID  Annual Income (k$)  Spending Score (1-100)\n",
              "0           1                  15                      39\n",
              "1           2                  15                      81\n",
              "2           3                  16                       6\n",
              "3           4                  16                      77\n",
              "4           5                  17                      40"
            ]
          },
          "metadata": {},
          "execution_count": 12
        }
      ],
      "source": [
        "# مكتبة إطار البيانات\n",
        "import pandas as pd\n",
        "# تحميل البيانات\n",
        "customer_data = pd.read_csv('shopping-data.csv')\n",
        "# إظهار ترويسة البيانات\n",
        "customer_data.head()"
      ]
    },
    {
      "cell_type": "code",
      "execution_count": 13,
      "id": "196cac8c",
      "metadata": {
        "id": "196cac8c",
        "colab": {
          "base_uri": "https://localhost:8080/"
        },
        "outputId": "bab941f7-6857-4861-c031-0651bc6853f3"
      },
      "outputs": [
        {
          "output_type": "stream",
          "name": "stdout",
          "text": [
            "[[55.2962963  49.51851852]\n",
            " [86.53846154 82.12820513]\n",
            " [26.30434783 20.91304348]\n",
            " [25.72727273 79.36363636]\n",
            " [88.2        17.11428571]]\n",
            "[2 3 2 3 2 3 2 3 2 3 2 3 2 3 2 3 2 3 2 3 2 3 2 3 2 3 2 3 2 3 2 3 2 3 2 3 2\n",
            " 3 2 3 2 3 2 0 2 3 0 0 0 0 0 0 0 0 0 0 0 0 0 0 0 0 0 0 0 0 0 0 0 0 0 0 0 0\n",
            " 0 0 0 0 0 0 0 0 0 0 0 0 0 0 0 0 0 0 0 0 0 0 0 0 0 0 0 0 0 0 0 0 0 0 0 0 0\n",
            " 0 0 0 0 0 0 0 0 0 0 0 0 1 4 1 0 1 4 1 4 1 0 1 4 1 4 1 4 1 4 1 0 1 4 1 4 1\n",
            " 4 1 4 1 4 1 4 1 4 1 4 1 4 1 4 1 4 1 4 1 4 1 4 1 4 1 4 1 4 1 4 1 4 1 4 1 4\n",
            " 1 4 1 4 1 4 1 4 1 4 1 4 1 4 1]\n"
          ]
        }
      ],
      "source": [
        "# حذف رقم الزبون\n",
        "data = customer_data.iloc[:, 1:3].values\n",
        "# إنشاء النموذج المتعلم\n",
        "kmeans = KMeans(n_clusters=5)\n",
        "# الملائمة مع البيانات\n",
        "kmeans.fit(data)\n",
        "# طباعة المراكز\n",
        "print(kmeans.cluster_centers_)\n",
        "# طباعة التسميات\n",
        "print(kmeans.labels_)"
      ]
    },
    {
      "cell_type": "code",
      "execution_count": 14,
      "id": "43159374",
      "metadata": {
        "id": "43159374",
        "colab": {
          "base_uri": "https://localhost:8080/",
          "height": 265
        },
        "outputId": "d19f71c0-b2ca-4eea-da88-07a6f0bd9d15"
      },
      "outputs": [
        {
          "output_type": "display_data",
          "data": {
            "image/png": "[encoded data removed]",
            "text/plain": [
              "<Figure size 432x288 with 1 Axes>"
            ]
          },
          "metadata": {
            "needs_background": "light"
          }
        }
      ],
      "source": [
        "# الرسم\n",
        "plt.scatter(data[:,0],data[:,1], c=kmeans.labels_, cmap='rainbow')\n",
        "plt.scatter(data[:,0], data[:,1], c=kmeans.labels_, cmap='rainbow')\n",
        "plt.scatter(kmeans.cluster_centers_[:,0] ,kmeans.cluster_centers_[:,1], color='black')\n",
        "plt.show()"
      ]
    },
    {
      "cell_type": "code",
      "execution_count": 15,
      "id": "75d43010",
      "metadata": {
        "id": "75d43010",
        "colab": {
          "base_uri": "https://localhost:8080/"
        },
        "outputId": "4c2c3a7d-443a-4142-c489-d7417e8a3dd0"
      },
      "outputs": [
        {
          "output_type": "stream",
          "name": "stdout",
          "text": [
            "0.553931997444648\n"
          ]
        }
      ],
      "source": [
        "from sklearn.metrics import silhouette_score\n",
        "cluster_labels = kmeans.fit_predict(data)\n",
        "# حساب المعامل\n",
        "silhouette_avg = silhouette_score(data, cluster_labels)\n",
        "print(silhouette_avg)"
      ]
    },
    {
      "cell_type": "code",
      "execution_count": 16,
      "id": "3e996ef0",
      "metadata": {
        "id": "3e996ef0",
        "colab": {
          "base_uri": "https://localhost:8080/"
        },
        "outputId": "0563e049-2f31-4af0-99aa-ea776925b164"
      },
      "outputs": [
        {
          "output_type": "stream",
          "name": "stdout",
          "text": [
            "For n = 2 silhouette_score is : 0.2968969162503008\n",
            "For n = 3 silhouette_score is : 0.46761358158775435\n",
            "For n = 4 silhouette_score is : 0.4931963109249047\n",
            "For n = 5 silhouette_score is : 0.553931997444648\n",
            "For n = 6 silhouette_score is : 0.5379675585622219\n",
            "For n = 7 silhouette_score is : 0.5288104473798049\n"
          ]
        }
      ],
      "source": [
        "# مجموعة القيم الممكنة\n",
        "range_n_clusters = [2, 3, 4, 5, 6, 7]\n",
        "for n_clusters in range_n_clusters:\n",
        "    clusterer = KMeans(n_clusters=n_clusters)\n",
        "    cluster_labels = clusterer.fit_predict(data)\n",
        "    # حساب المعامل\n",
        "    silhouette_avg = silhouette_score(data, cluster_labels)\n",
        "    print(\n",
        "        \"For n =\",\n",
        "        n_clusters,\n",
        "        \"silhouette_score is :\",\n",
        "        silhouette_avg,\n",
        "    )"
      ]
    },
    {
      "cell_type": "code",
      "execution_count": 17,
      "id": "a0f70f4b",
      "metadata": {
        "id": "a0f70f4b",
        "colab": {
          "base_uri": "https://localhost:8080/",
          "height": 275
        },
        "outputId": "d0a90319-4d9c-4a0c-e9a7-cd94941d0d09"
      },
      "outputs": [
        {
          "output_type": "display_data",
          "data": {
            "image/png": "[encoded data removed]",
            "text/plain": [
              "<Figure size 432x288 with 1 Axes>"
            ]
          },
          "metadata": {
            "needs_background": "light"
          }
        }
      ],
      "source": [
        "# التسميات : 2,1, ..., 10\n",
        "labels = range(1, 11)\n",
        "plt.subplots_adjust(bottom=0.1)\n",
        "plt.scatter(X[:,0],X[:,1])\n",
        "# تسمية النقاط\n",
        "for label, x, y in zip(labels, X[:, 0], X[:, 1]):\n",
        "    plt.annotate(\n",
        "        label,\n",
        "        xy=(x, y), xytext=(-3, 3),\n",
        "        textcoords='offset points', ha='right', va='bottom')\n",
        "plt.show()"
      ]
    },
    {
      "cell_type": "code",
      "execution_count": 18,
      "id": "799a17a2",
      "metadata": {
        "id": "799a17a2",
        "colab": {
          "base_uri": "https://localhost:8080/",
          "height": 268
        },
        "outputId": "3c6f50fc-bcc2-4f04-c22e-81eee0928079"
      },
      "outputs": [
        {
          "output_type": "display_data",
          "data": {
            "image/png": "[encoded data removed]",
            "text/plain": [
              "<Figure size 432x288 with 1 Axes>"
            ]
          },
          "metadata": {
            "needs_background": "light"
          }
        }
      ],
      "source": [
        "# المكتبات اللازمة\n",
        "from scipy.cluster.hierarchy import dendrogram, linkage\n",
        "# اختيار الربط البسيط\n",
        "linked = linkage(X, 'single')\n",
        "# التسميات: 1,2, .. ,10\n",
        "labelList = range(1, 11)\n",
        "# dendrogram\n",
        "dendrogram(linked,\n",
        "            orientation='top',\n",
        "            labels=labelList,\n",
        "            distance_sort='descending',\n",
        "            show_leaf_counts=True)\n",
        "plt.show()"
      ]
    },
    {
      "cell_type": "code",
      "execution_count": 19,
      "id": "607a8c7f",
      "metadata": {
        "id": "607a8c7f",
        "colab": {
          "base_uri": "https://localhost:8080/"
        },
        "outputId": "c79a12fa-428b-419f-c502-d5c4a1d0357b"
      },
      "outputs": [
        {
          "output_type": "execute_result",
          "data": {
            "text/plain": [
              "array([1, 1, 1, 1, 0, 0, 0, 0, 0, 0])"
            ]
          },
          "metadata": {},
          "execution_count": 19
        }
      ],
      "source": [
        "from sklearn.cluster import AgglomerativeClustering\n",
        "# العنقدة التكتلية\n",
        "cluster = AgglomerativeClustering(n_clusters=2)\n",
        "# الملائمة مع البيانات\n",
        "cluster.fit_predict(X)"
      ]
    },
    {
      "cell_type": "code",
      "execution_count": 20,
      "id": "8bde5550",
      "metadata": {
        "id": "8bde5550",
        "colab": {
          "base_uri": "https://localhost:8080/",
          "height": 265
        },
        "outputId": "91cceb7c-7ced-4367-c8ca-a219f0960cc5"
      },
      "outputs": [
        {
          "output_type": "display_data",
          "data": {
            "image/png": "[encoded data removed]",
            "text/plain": [
              "<Figure size 432x288 with 1 Axes>"
            ]
          },
          "metadata": {
            "needs_background": "light"
          }
        }
      ],
      "source": [
        "# الرسم\n",
        "plt.scatter(X[:,0],X[:,1], c=cluster.labels_, cmap='rainbow')\n",
        "plt.show()"
      ]
    },
    {
      "cell_type": "code",
      "execution_count": 21,
      "id": "97f0d72c",
      "metadata": {
        "id": "97f0d72c",
        "colab": {
          "base_uri": "https://localhost:8080/",
          "height": 281
        },
        "outputId": "a2d677f8-9039-45a3-9626-5944cf46b402"
      },
      "outputs": [
        {
          "output_type": "display_data",
          "data": {
            "image/png": "[encoded data removed]",
            "text/plain": [
              "<Figure size 432x288 with 1 Axes>"
            ]
          },
          "metadata": {
            "needs_background": "light"
          }
        }
      ],
      "source": [
        "# نوع الربط\n",
        "linked = linkage(data, 'ward')\n",
        "# dendrogram\n",
        "dendrogram(linked,\n",
        "            orientation='top',\n",
        "            distance_sort='descending',\n",
        "            show_leaf_counts=True)\n",
        "# الرسم\n",
        "plt.title(\"Customer Dendograms\")\n",
        "plt.show()"
      ]
    },
    {
      "cell_type": "code",
      "execution_count": 22,
      "id": "18e821fe",
      "metadata": {
        "id": "18e821fe",
        "colab": {
          "base_uri": "https://localhost:8080/",
          "height": 265
        },
        "outputId": "8d69c915-38af-4c5d-eb45-a19e5b378910"
      },
      "outputs": [
        {
          "output_type": "display_data",
          "data": {
            "image/png": "[encoded data removed]",
            "text/plain": [
              "<Figure size 432x288 with 1 Axes>"
            ]
          },
          "metadata": {
            "needs_background": "light"
          }
        }
      ],
      "source": [
        "cluster = AgglomerativeClustering(n_clusters=5, affinity='euclidean', linkage='ward')\n",
        "cluster.fit_predict(data)\n",
        "# الرسم\n",
        "plt.scatter(data[:,0], data[:,1], c=cluster.labels_, cmap='rainbow')\n",
        "plt.show()"
      ]
    }
  ],
  "metadata": {
    "kernelspec": {
      "display_name": "Python 3 (ipykernel)",
      "language": "python",
      "name": "python3"
    },
    "language_info": {
      "codemirror_mode": {
        "name": "ipython",
        "version": 3
      },
      "file_extension": ".py",
      "mimetype": "text/x-python",
      "name": "python",
      "nbconvert_exporter": "python",
      "pygments_lexer": "ipython3",
      "version": "3.8.10"
    },
    "colab": {
      "name": "clust.ipynb",
      "provenance": [],
      "collapsed_sections": [],
      "include_colab_link": true
    }
  },
  "nbformat": 4,
  "nbformat_minor": 5
}